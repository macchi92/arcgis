{
 "cells": [
  {
   "cell_type": "markdown",
   "metadata": {
    "collapsed": false
   },
   "source": [
    "# Go to the bottom and read the instruction\n",
    "# Do not Run the Algorithm"
   ]
  },
  {
   "cell_type": "code",
   "execution_count": 22,
   "metadata": {
    "collapsed": true
   },
   "outputs": [],
   "source": [
    "import pandas as pd\n",
    "import numpy as np\n",
    "import geopandas as gpd\n",
    "import math\n",
    "import geopy\n",
    "\n",
    "import matplotlib.pyplot as plt\n",
    "import shapely\n",
    "%matplotlib inline\n",
    "\n",
    "from geopy.distance import vincenty\n",
    "from geopy.distance import great_circle\n",
    "\n",
    "from shapely.geometry import Point\n"
   ]
  },
  {
   "cell_type": "code",
   "execution_count": 23,
   "metadata": {
    "collapsed": true
   },
   "outputs": [],
   "source": [
    "class MyDf:\n",
    "    def __init__(self, mydf):\n",
    "        self.df = mydf"
   ]
  },
  {
   "cell_type": "code",
   "execution_count": 24,
   "metadata": {
    "collapsed": true
   },
   "outputs": [],
   "source": [
    "def geome (x,y):\n",
    "    return Point(x,y)"
   ]
  },
  {
   "cell_type": "code",
   "execution_count": 25,
   "metadata": {
    "collapsed": false
   },
   "outputs": [],
   "source": [
    "def point_close_to_station (All,radius,center_X,center_Y,x_colum,y_colum):\n",
    "    #The x coordinate in df HAVE TO BE on the first column\n",
    "    #The y coordinate in df HAVE TO BE on the second column\n",
    "    pointclosetome=gpd.GeoDataFrame()    \n",
    "    for i in range(0,len(All)):\n",
    "        if (vincenty((center_Y,center_X),\n",
    "                   (All[y_colum][i],All[x_colum][i])).meters<=radius^2):\n",
    "             pointclosetome = pointclosetome.append(All.iloc[i],ignore_index=False)\n",
    "    return pointclosetome\n",
    "\n",
    "\n"
   ]
  },
  {
   "cell_type": "code",
   "execution_count": 26,
   "metadata": {
    "collapsed": false
   },
   "outputs": [],
   "source": [
    "def population_of_an_area (point_close_to_station,pop_index):\n",
    "    return point_close_to_station[pop_index].sum()"
   ]
  },
  {
   "cell_type": "code",
   "execution_count": 27,
   "metadata": {
    "collapsed": false
   },
   "outputs": [],
   "source": [
    "def turnoff_poin(All_Point,point_close_to_station):\n",
    "    #Take out from a dataframe the point selected insied the circle of\n",
    "    #fruiability of the station\n",
    "    return All_Point.drop(point_close_to_station.index.values)\n"
   ]
  },
  {
   "cell_type": "code",
   "execution_count": 28,
   "metadata": {
    "collapsed": false
   },
   "outputs": [],
   "source": [
    "def compare(A, pop_index):\n",
    "    tmp=-1\n",
    "    index=0\n",
    "    for k in range(len(A)):\n",
    "        if (A[k].df[pop_index].sum()>tmp):\n",
    "            tmp=A[k].df[pop_index].sum()\n",
    "            index=k\n",
    "    \n",
    "    return index"
   ]
  },
  {
   "cell_type": "code",
   "execution_count": 29,
   "metadata": {
    "collapsed": true
   },
   "outputs": [],
   "source": [
    "def adjustAll (All,i):\n",
    "    \n",
    "    arr=range(0,len(All))\n",
    "    arr.remove(1)\n",
    "    arr.insert(0,1)\n",
    "    All=All.reindex(arr)\n",
    "\n",
    "    return All.reset_index(drop=True)  \n"
   ]
  },
  {
   "cell_type": "code",
   "execution_count": 30,
   "metadata": {
    "collapsed": true
   },
   "outputs": [],
   "source": [
    "def findthebest (All,radius,x_colum,y_colum,pop_index):\n",
    "    tmp=0\n",
    "    for k in range(0,len(All)):\n",
    "        fruiability = point_close_to_station(All,radius,All[x_colum][k],All[y_colum][k],x_colum,y_colum)\n",
    "        population = population_of_an_area(fruiability,pop_index)\n",
    "        if population>tmp:\n",
    "            pnt=k\n",
    "        \n",
    "\n",
    "    return k,population,fruiability\n",
    "                \n",
    "    "
   ]
  },
  {
   "cell_type": "code",
   "execution_count": 45,
   "metadata": {
    "collapsed": false
   },
   "outputs": [],
   "source": [
    "def configuration2 (All,radius,number_of_station,x_colum,y_colum,pop_index):\n",
    "    \n",
    "    if number_of_station> len(All):\n",
    "        print ('ERROR, YOU WANT TO PUT MORE STATION THAN POSSIBLE LOCATION')\n",
    "        print ('THE MAXIMUM POSSIBLE NUMBER OF STATION IS', len(All))\n",
    "        print ('THE ALGORITH WILL RESET FOR YOU THE OPTION AND FIND ALL THE BEST')\n",
    "        print ('CONFIGURATION FOR n STATION WITH n THAT GOES FROM 0 TO', len(All))\n",
    "        maximum_mumber_of_station=len(All)\n",
    "\n",
    "    path=pd.DataFrame()\n",
    "\n",
    "    while ((len(All)>0) and (number_of_station>0)):\n",
    "            station, popcoverd, fruiability = findthebest (All,radius,x_colum,y_colum,pop_index)\n",
    "            path = path.append({'x':All[x_colum][station], 'y':All[y_colum][station], 'pop': popcoverd},ignore_index=True)\n",
    "            All = turnoff_poin(All,fruiability)\n",
    "            All = All.reset_index(drop=True)\n",
    "            number_of_station=number_of_station-1\n",
    "            \n",
    "\n",
    "    path.to_csv('configuration') \n",
    "\n",
    "    return\n",
    "       \n"
   ]
  },
  {
   "cell_type": "code",
   "execution_count": 32,
   "metadata": {
    "collapsed": false
   },
   "outputs": [],
   "source": [
    "def create_up_to_k_option (All,radius,maximum_mumber_of_station,x_colum,y_colum,pop_index):\n",
    "   \n",
    "        \n",
    "    lis=[]\n",
    "    a=pd.DataFrame()\n",
    "    a['number of station']=[]\n",
    "    a['population covered']=[]\n",
    "    #a['configuration']=[]\n",
    "    for k in range(1,maximum_mumber_of_station+1):\n",
    "        b=MyDf(configuration2(All,radius,k,x_colum,y_colum,pop_index))\n",
    "        a = a.append({'number of station':len(b.df), \n",
    "                      'population covered': population_of_an_area(b.df,'pop')},\n",
    "                     # 'configuration': b},\n",
    "                     ignore_index=True)\n",
    "        if k>2:\n",
    "            if (a['number of station'][k-1]==a['number of station'][k-2]):\n",
    "                print ('NO REASON TO PUT', maximum_mumber_of_station, 'STATION') \n",
    "                print('ALL THE AREA HAS BEEN COVERED WITH JUST', k-1 ,'STATION')\n",
    "                print ('THE ALGORITHM STOPS HERE.')\n",
    "                a.drop([k-1], inplace=True)\n",
    "                break\n",
    "        r=str(k)\n",
    "        b.df.to_csv('station/' + r)\n",
    "    \n",
    "    a.to_csv('summary')\n",
    "    return\n",
    "        "
   ]
  },
  {
   "cell_type": "code",
   "execution_count": 33,
   "metadata": {
    "collapsed": true
   },
   "outputs": [],
   "source": [
    "def printing_the_curve(lis):\n",
    "    station=[]\n",
    "    population=[]\n",
    "    for i in range(len(lis)):\n",
    "        station.append(lis['number of station'][i])\n",
    "        population.append(lis['population covered'][i])\n",
    "    \n",
    "    plt.plot(station,population, 'o')\n",
    "    return\n",
    "    "
   ]
  },
  {
   "cell_type": "markdown",
   "metadata": {},
   "source": [
    "# Instructions:\n",
    "\n",
    "# SEND ME A FOLDER CALLED 'name_of_your_city'\n",
    "\n",
    "# Put inside this folder the following things:\n",
    "\n",
    "## 1) The python file downloaded from this notebook after you will have modified the notebook as written below. \n",
    "## Call the python file(.py) 'name_of_your_city'\n",
    "\n",
    "## 2) A folder called 'city_shape' with all the shapefiles of your final sorfuce. Remember, the final sourface, not the whole city.\n",
    "\n",
    "## 3) An emty folder named 'station'\n",
    "\n",
    "\n",
    "# DO NOT RUN THE ALGORITHM! \n",
    "\n"
   ]
  },
  {
   "cell_type": "markdown",
   "metadata": {},
   "source": [
    "## Remember!\n",
    "\n",
    "### THE SHAPE FILE OF THE FINAL SURFACE, NOT THE WHOLE CITY!"
   ]
  },
  {
   "cell_type": "markdown",
   "metadata": {},
   "source": [
    "# "
   ]
  },
  {
   "cell_type": "markdown",
   "metadata": {},
   "source": [
    "# Instruction on how to modify this notebook.\n"
   ]
  },
  {
   "cell_type": "markdown",
   "metadata": {},
   "source": [
    "### first step: "
   ]
  },
  {
   "cell_type": "markdown",
   "metadata": {},
   "source": [
    "## In this line\n"
   ]
  },
  {
   "cell_type": "code",
   "execution_count": 34,
   "metadata": {
    "collapsed": true
   },
   "outputs": [],
   "source": [
    "city=gpd.read_file('buenos_aires_shape/manzanasSelectedForCluster.shp')"
   ]
  },
  {
   "cell_type": "markdown",
   "metadata": {},
   "source": [
    "### instead of\n",
    "\n",
    "### 'buenos_aires_shape/manzanasSelectedForCluster.shp'\n",
    "\n",
    "### write\n",
    "\n",
    "### 'city_shape' (like the folder you made) / the name of the shape file of your final sourface\n",
    "\n"
   ]
  },
  {
   "cell_type": "markdown",
   "metadata": {},
   "source": [
    "#############"
   ]
  },
  {
   "cell_type": "markdown",
   "metadata": {},
   "source": [
    "## In the following function change:"
   ]
  },
  {
   "cell_type": "code",
   "execution_count": 46,
   "metadata": {
    "collapsed": false
   },
   "outputs": [],
   "source": [
    "configuration2(city,300,10,'CENTROID_X','CENTROID_Y','popByManza')"
   ]
  },
  {
   "cell_type": "markdown",
   "metadata": {},
   "source": [
    "## 'centroid_x' ---> the name of the column of the attribute table of your shapefile where you have your 'x' coordinate.\n",
    "\n",
    "## 'centroid_y' ---> the name of the column of the attribute table of your shapefile where you have your 'y' coordinate.\n",
    "\n",
    "## 'popByManza' ---> the name of the column of the attribute table of your shapefile where you have your 'Population' or the Area of your city."
   ]
  },
  {
   "cell_type": "markdown",
   "metadata": {},
   "source": [
    "######"
   ]
  },
  {
   "cell_type": "markdown",
   "metadata": {
    "collapsed": true
   },
   "source": [
    "# If you have no idea of what is going on, just send me stuff "
   ]
  },
  {
   "cell_type": "code",
   "execution_count": null,
   "metadata": {
    "collapsed": true
   },
   "outputs": [],
   "source": []
  }
 ],
 "metadata": {
  "anaconda-cloud": {},
  "kernelspec": {
   "display_name": "Python [default]",
   "language": "python",
   "name": "python3"
  },
  "language_info": {
   "codemirror_mode": {
    "name": "ipython",
    "version": 3
   },
   "file_extension": ".py",
   "mimetype": "text/x-python",
   "name": "python",
   "nbconvert_exporter": "python",
   "pygments_lexer": "ipython3",
   "version": "3.5.2"
  }
 },
 "nbformat": 4,
 "nbformat_minor": 0
}
